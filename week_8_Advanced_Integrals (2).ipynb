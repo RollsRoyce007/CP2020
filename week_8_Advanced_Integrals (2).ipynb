{
 "cells": [
  {
   "cell_type": "markdown",
   "metadata": {},
   "source": [
    "## Part 1. Gaussian quadrature\n",
    "\n",
    "The Gaussian quadrature method is one of the methods of numerical integration that allows you to increase the accuracy of integration, by using orthogonal polynomials and their roots as nodes.\n",
    "\n",
    "$$\n",
    "\\int_a^b \\!  w(x)\\, f(x)\\, dx \\approx \\sum_{k=1}^n w_k \\, f(x_k) \\;,\n",
    "$$\n",
    "\n",
    "here $\\omega$ is the weight function, this weight function determines the basis of orthogonal polynomials whose roots are used as integration nodes. If the function $f(x)$ is a polynomial, then such an integration method gives *exact* value for the integral."
   ]
  },
  {
   "cell_type": "markdown",
   "metadata": {},
   "source": [
    "For example, let's calculate the following integral:\n",
    "$$\n",
    "\\int_{-1}^1 (7x^3 - 8 x^2 - 3 x + 3) dx  \\label{eq1}\\tag{1}\n",
    "$$\n",
    "\n",
    "Here function is already polynomial, so we put the weight function $\\omega(x) = 1$. Then the calculation of the integral reduces to the sum in the polynomials roots witch corresponding to the weight function $\\omega(x) = 1$. For example, here https://dlmf.nist.gov/18.3 you may see which basis of polynomials corresponds to your weight function.\n",
    "\n",
    "You may see, that Legendre polynomials correspond to our weight function. Now go to the documentation https://docs.scipy.org/doc/scipy/reference/special.html#orthogonal-polynomials. Here, the function *roots_legendre* immediately gives you the roots of the Legendre polynomial and weight at this roots (for Legendre polynomials all these weight are ones).\n"
   ]
  },
  {
   "cell_type": "markdown",
   "metadata": {},
   "source": [
    "### Task 1.1\n",
    "(20% of the grade)"
   ]
  },
  {
   "cell_type": "markdown",
   "metadata": {},
   "source": [
    "1. Calculate the exact value of the integral ([1](#mjx-eqn-eq1)) using a pen and paper (or in your mind). Remember it, then you will compare numerical results with it."
   ]
  },
  {
   "cell_type": "code",
   "execution_count": 13,
   "metadata": {},
   "outputs": [],
   "source": [
    "int_value=2/3"
   ]
  },
  {
   "cell_type": "markdown",
   "metadata": {},
   "source": [
    "2. Calculate the value of the integral ([1](#mjx-eqn-eq1)) using the usual method of numerical integration on a uniform grid (for example, implemented by you in week_6_calculus homework). Estimate the number of nodes needed to achieve relative accuracy $10^{-10}$."
   ]
  },
  {
   "cell_type": "code",
   "execution_count": 95,
   "metadata": {},
   "outputs": [
    {
     "name": "stdout",
     "output_type": "stream",
     "text": [
      "(0.6666669037453725, 4744)\n"
     ]
    }
   ],
   "source": [
    "import numpy as np\n",
    "import scipy.special as sp\n",
    "import matplotlib.pyplot as plt\n",
    "from scipy.interpolate import CubicSpline\n",
    "\n",
    "\n",
    "def midpoint_rule(func, a, b, eps, double=False):\n",
    "    I = (b-a)*func((a+b)/2)\n",
    "    for N in range(5, 100000):\n",
    "        if double == True:\n",
    "            dots = np.linspace(a, b, 2*N)\n",
    "        else:\n",
    "            dots = np.linspace(a, b, N)\n",
    "        points = (dots[1:]+dots[:-1])/2\n",
    "        h = dots[1]-dots[0]\n",
    "        I_new = h*np.sum(func(points))\n",
    "        if abs(I_new-I)<eps:\n",
    "            return I_new, N\n",
    "        I = I_new\n",
    "def ff(x):\n",
    "    return 7*x**3-8*x**2-3*x+3\n",
    "print(midpoint_rule(ff, -1, 1, eps = 1e-10))"
   ]
  },
  {
   "cell_type": "markdown",
   "metadata": {},
   "source": [
    "3. Calculate the integral ([1](#mjx-eqn-eq1)) using the roots of the Legendre polynomial from 1 to 6 degrees as nodes (to get roots and weigths use scipy.special.roots_legendre)"
   ]
  },
  {
   "cell_type": "code",
   "execution_count": 96,
   "metadata": {},
   "outputs": [
    {
     "name": "stdout",
     "output_type": "stream",
     "text": [
      "1 :  I= 6.0\n",
      "2 :  I= 0.6666666666666674\n",
      "3 :  I= 0.6666666666666639\n",
      "4 :  I= 0.6666666666666667\n",
      "5 :  I= 0.6666666666666685\n",
      "6 :  I= 0.6666666666666695\n"
     ]
    }
   ],
   "source": [
    "for n in range(1,7):\n",
    "    xx,w = sp.roots_legendre(n)\n",
    "    print(n,\":\",\" I=\",sum(w*ff(xx)))"
   ]
  },
  {
   "cell_type": "markdown",
   "metadata": {},
   "source": [
    "Compare the number of nodes needed to obtain the same accuracy in both numerical methods."
   ]
  },
  {
   "cell_type": "markdown",
   "metadata": {},
   "source": [
    "\n"
   ]
  },
  {
   "cell_type": "markdown",
   "metadata": {},
   "source": [
    "### Task 1.2\n",
    "(20% of the grade)\n",
    "\n",
    "Calculate the value of the same integral, but on the interval from 0 to 10.\n",
    "$$\n",
    "\\int_{0}^{10} (7x^3 - 8 x^2 - 3 x + 3) dx \n",
    "$$\n",
    "\n",
    "Please note that you can no longer directly use Legendre polynomials, because they are defined for the interval (-1,1). But you can always make an *affine transformation* (a transformation that does not change the area) in order to go to the desired coordinate system."
   ]
  },
  {
   "cell_type": "code",
   "execution_count": 97,
   "metadata": {},
   "outputs": [
    {
     "name": "stdout",
     "output_type": "stream",
     "text": [
      "1 :  I= 6630.0\n",
      "2 :  I= 14713.333333333336\n",
      "3 :  I= 14713.33333333333\n",
      "4 :  I= 14713.333333333336\n",
      "5 :  I= 14713.333333333332\n",
      "6 :  I= 14713.333333333336\n"
     ]
    }
   ],
   "source": [
    "#affine transformation: x = (t-5)|5, чтобы получить привычные пределы (-1,1) и тогда перед интегралом будет коэффициент 5 перед интегралом\n",
    "\n",
    "def ff_new(t):\n",
    "    res = 7 * (5 * t + 5)**3 - 8 * (5 * t + 5)**2 - 3 * (5 * t + 5) + 3\n",
    "    return res\n",
    "for n in range(1,7):\n",
    "    tt,w = sp.roots_legendre(n)\n",
    "    print(n,\":\",\" I=\",sum(5*w*ff_new(tt)))"
   ]
  },
  {
   "cell_type": "markdown",
   "metadata": {},
   "source": [
    "Compare the result with the exact value of the integral."
   ]
  },
  {
   "cell_type": "markdown",
   "metadata": {},
   "source": [
    "Как и в предудущем пункте, на n=2 результат данного метода дает более точное решение\n"
   ]
  },
  {
   "cell_type": "markdown",
   "metadata": {},
   "source": [
    "### Task 1.3\n",
    "(20% of the grade)\n",
    "\n",
    "Calculate the value of the following integral:\n",
    "$$\n",
    "\\int_{0}^{2\\pi} \\frac{cos(x) dx }{\\sqrt{4\\pi^2 - x^2}}\n",
    "$$\n",
    "by using the corresponding basis of orthogonal polynomials. \n",
    "Find the degree of the polynomial (number of nodes) at which the accuracy of the integral starts to exceed the double floating point accuracy.\n",
    "\n",
    "Сделав замену: $x=2\\pi\\nu$, получаем: $$\\int_{-1}^1\\frac{\\cos (2 \\pi  \\nu)}{2 \\sqrt{1-\\nu^2}}dx=\\frac{\\pi J_{0}(2\\pi)}{2}$$"
   ]
  },
  {
   "cell_type": "code",
   "execution_count": 98,
   "metadata": {},
   "outputs": [
    {
     "name": "stdout",
     "output_type": "stream",
     "text": [
      "1 :  I= 1.5707963267948966\n",
      "2 :  I= -0.4182329132681745\n",
      "3 :  I= 1.2211694475711936\n",
      "4 :  I= 0.11575359323141321\n",
      "5 :  I= 0.37786106634872507\n",
      "6 :  I= 0.34323498164389277\n",
      "7 :  I= 0.34617799427660145\n",
      "8 :  I= 0.3460026676271414\n",
      "9 :  I= 0.34601041637332886\n",
      "10 :  I= 0.3460101517706765\n",
      "11 :  I= 0.3460101589691607\n",
      "12 :  I= 0.3460101588093585\n",
      "13 :  I= 0.3460101588123096\n",
      "14 :  I= 0.3460101588122638\n",
      "15 :  I= 0.34601015881226416\n",
      "16 :  I= 0.3460101588122644\n",
      "17 :  I= 0.3460101588122645\n",
      "18 :  I= 0.34601015881226427\n",
      "19 :  I= 0.34601015881226427\n"
     ]
    }
   ],
   "source": [
    "for n in range(1,20):\n",
    "    nu,w = sp.roots_chebyt(n)\n",
    "    print(n,\":\",\" I=\", sum(w*np.cos(2* np.pi*nu)/2))"
   ]
  },
  {
   "cell_type": "markdown",
   "metadata": {},
   "source": [
    "Точное решение: 0.3460101588122,\n",
    "Поэтому можно сдлетаь вывод, что на n=18 разница порядка машинного $\\epsilon$. Достаточная точность достигается уже на n=16"
   ]
  },
  {
   "cell_type": "markdown",
   "metadata": {},
   "source": [
    "## Part 2. Fredholm equation\n",
    "\n",
    "There are two types of Fredholm equations. \n",
    "\n",
    "1. Fredholm equation of the first kind:\n",
    "$$\n",
    "\\int_a^b \\! K(x, t)\\, \\color{blue}{f(t)} \\,dt = g(x)\n",
    "$$\n",
    "\n",
    "2. Fredholm equation of the second kind:\n",
    "$$\n",
    "\\lambda \\int_a^b\\! K(x, t)\\, \\color{blue}{f(t)} \\, dt + g(x) = \\color{blue}{f(x)}\n",
    "$$\n",
    "\n",
    "Here higtlighted function $f(x)$ is unknown, kernel function $K(x, t)$ and given function $g(x)$, $\\lambda$ is a real number. Numerically, Fredholm equations of the first kind are very ill-conditioned. We will consider equations of the second kind only."
   ]
  },
  {
   "cell_type": "markdown",
   "metadata": {},
   "source": [
    "The basic idea is to approximate the integral by some quadrature formula\n",
    "\n",
    "$$\n",
    "\\int_a^b \\! \\xi(t)\\, dt \\approx \\sum_j^N w_j\\, \\xi(t_j)\n",
    "$$\n",
    "\n",
    "with appropriate weights $w_j$ and nodes $t_j$ and $j=1, \\dots, N$. The accuracy of the approximation is controlled by $N$."
   ]
  },
  {
   "cell_type": "markdown",
   "metadata": {},
   "source": [
    "This way, the FE is approximated by \n",
    "\n",
    "$$\n",
    "\\lambda \\sum_j w_j\\, K(x, t_j)\\, \\color{blue}{f(t_j)} + g(x) = \\color{blue}{f(x)}\n",
    "$$\n",
    "\n",
    "Note that here $x$ is a continuous variable, and we only discretized $t$.\n"
   ]
  },
  {
   "cell_type": "markdown",
   "metadata": {},
   "source": [
    "Evaluating this equation on the grid $x = t_k$, we obtain\n",
    "\n",
    "$$\n",
    "\\lambda \\sum_j w_j \\, K_{k, j}\\, \\color{blue}{f_j} + g_k = \\color{blue}{f_k}\n",
    "$$\n",
    "\n",
    "where $f_j \\equiv f(t_j)$, $g_j \\equiv g(t_j)$ and $K_{k, j} \\equiv K(t_k, t_j)$. This is nothing but a system of linear algebraic equations for the vector of $\\color{blue}{f_j}$.\n",
    "\n",
    "Its solution gives the values of the unknown function $f(x)$ at the discrete values $x=t_j$ for $j=1, \\dots, N$."
   ]
  },
  {
   "cell_type": "markdown",
   "metadata": {},
   "source": [
    "### Task 2.1\n",
    "(20% of the grade)\n",
    "\n",
    "Solve an example Fredholm equation of the second kind\n",
    "\n",
    "$$\n",
    "f(x) = \\sin(\\pi x)  + \\frac{1}{2} \\int_0^1\\! f(t) \\, dt\n",
    "$$\n",
    "\n",
    "Here $a, b = 0, 1$, $\\lambda = \\dfrac{1}{2}$, the kernel is $K(x, t) = 1$ and the right-hand side $g(x) = \\sin(\\pi x)$.\n",
    "\n",
    "In fact, the exact solution is (В. А. Попов, Сборник задач по интегральным уравнениям, 2006, стр. 5)\n",
    "\n",
    "$$\n",
    "f(x) = \\sin(\\pi x) + \\frac{2}{\\pi}\n",
    "$$"
   ]
  },
  {
   "cell_type": "markdown",
   "metadata": {},
   "source": [
    "\n",
    "For the integral, we can use a Gaussian quadrature with the weight function $w(x) = 1$ on $(0, 1)$. Looking at http://dlmf.nist.gov/18.3, and find the corresponding function in *scipy.special* (pay attention to the integration interval).\n",
    "\n",
    "Compare the obtained function values with the true solution for different values of $N$. What value of $N$ can you stop at?"
   ]
  },
  {
   "cell_type": "code",
   "execution_count": 99,
   "metadata": {},
   "outputs": [
    {
     "name": "stdout",
     "output_type": "stream",
     "text": [
      "1 :  f = 2.0 f_real = 1.6366197723675815  err = 0.3633802276324185\n",
      "2 :  f = 2.4647620339182303 f_real = 2.505620561694278  err = 0.02889134205974216\n",
      "3 :  f = 3.6046083901798758 f_real = 3.603282075382677  err = 0.0007657482051929123\n",
      "4 :  f = 4.700775311399325 f_real = 4.700795392350633  err = 1.004047565394961e-05\n",
      "5 :  f = 5.803005035763186 f_real = 5.803004860239997  err = 7.849635643883314e-08\n",
      "6 :  f = 6.907430465574742 f_real = 6.9074304665730795  err = 4.075690888101765e-10\n",
      "7 :  f = 8.013101526128477 f_real = 8.01310152612449  err = 1.5066630835619936e-12\n",
      "8 :  f = 9.119537696109074 f_real = 9.119537696109079  err = 2.6967223568632722e-15\n",
      "9 :  f = 10.226476455409507 f_real = 10.226476455409507  err = 3.6821932062951477e-16\n"
     ]
    }
   ],
   "source": [
    "def f(x):\n",
    "    return np.sin(np.pi*x)+2/np.pi\n",
    "\n",
    "def f_1(n):\n",
    "    xx, w = sp.roots_sh_legendre(n)\n",
    "    f = np.linalg.solve(np.eye(n)-1/2*w, np.sin(np.pi*xx))\n",
    "    return xx, f\n",
    "\n",
    "for n in range(1,10):\n",
    "    xx, g = f_1(n)\n",
    "    err = np.linalg.norm(g - f(xx))\n",
    "    print(n,\":\", \" f =\", sum(g), \"f_real =\", sum(f(xx)), \" err =\", err)"
   ]
  },
  {
   "cell_type": "markdown",
   "metadata": {},
   "source": [
    "\n",
    "### Task 2.2\n",
    "(20% of the grade)\n",
    "\n",
    "An obvious issue with the privious result for $f(x)$ that it returns the solution on a fixed set of points. We do not control precise positions of these points.\n",
    "\n",
    "1. First, let's try to interpolate the values obtained in the previous task to a uniform grid of length 50. You may use any interpolation method. Compare the interpolation values with exact solution values."
   ]
  },
  {
   "cell_type": "code",
   "execution_count": 148,
   "metadata": {},
   "outputs": [
    {
     "name": "stdout",
     "output_type": "stream",
     "text": [
      "5 :   error = 0.01865601743192529\n",
      "10 :   error = 0.00035126845088726954\n",
      "15 :   error = 7.081487243347623e-05\n",
      "20 :   error = 2.2846670136821968e-05\n",
      "25 :   error = 9.390085190516405e-06\n",
      "30 :   error = 4.599874456404091e-06\n",
      "35 :   error = 2.5736129118423583e-06\n",
      "40 :   error = 1.4491237560646242e-06\n",
      "45 :   error = 9.271597683515008e-07\n",
      "50 :   error = 6.064731338075147e-07\n",
      "55 :   error = 4.1923196618435313e-07\n",
      "60 :   error = 2.915295118105931e-07\n",
      "65 :   error = 2.2078913403870969e-07\n",
      "70 :   error = 1.8652903708399143e-07\n",
      "75 :   error = 1.8245140877933346e-07\n",
      "80 :   error = 8.154027366439042e-08\n",
      "85 :   error = 7.456002788044169e-08\n",
      "90 :   error = 5.9092508244270505e-08\n",
      "95 :   error = 4.736424139816314e-08\n"
     ]
    },
    {
     "data": {
      "text/plain": [
       "<matplotlib.legend.Legend at 0x15309ad5550>"
      ]
     },
     "execution_count": 148,
     "metadata": {},
     "output_type": "execute_result"
    },
    {
     "data": {
      "image/png": "[encoded data removed]",
      "text/plain": [
       "<Figure size 432x288 with 1 Axes>"
      ]
     },
     "metadata": {
      "needs_background": "light"
     },
     "output_type": "display_data"
    }
   ],
   "source": [
    "array = np.linspace(0, 1, 50)\n",
    "for n in range(5,100,5):\n",
    "    xx, f = f_1(n)\n",
    "    interpolation = CubicSpline(xx, f)\n",
    "    print(n,\":\", \"  error =\", np.linalg.norm(f_real(array) - interpolation(array))) \n",
    "plt.plot(array, interpolation(array), label=\"Interpolation\")\n",
    "plt.plot(array, f_real(array), '+', label=\"real\")\n",
    "plt.legend()"
   ]
  },
  {
   "cell_type": "markdown",
   "metadata": {},
   "source": [
    "2. Now use the following formula to calculate the function at points of the same uniform grid.\n",
    "$$\n",
    "f(x) = g(x) + \\lambda \\sum_j^N w_j\\, K(x, t_j)\\, f(t_j)\n",
    "$$\n",
    "Again, compare the interpolation values with the exact solution values, and also with the direct interpolation method."
   ]
  },
  {
   "cell_type": "code",
   "execution_count": 171,
   "metadata": {},
   "outputs": [
    {
     "name": "stdout",
     "output_type": "stream",
     "text": [
      "1 :   error = 2.569486231079945\n",
      "2 :   error = 0.14445671029871074\n",
      "3 :   error = 0.0031261539569578723\n",
      "4 :   error = 3.549844210799738e-05\n",
      "5 :   error = 2.4822727484216415e-07\n",
      "6 :   error = 1.1765510762498843e-09\n",
      "7 :   error = 4.027444266765912e-12\n",
      "8 :   error = 7.0058503728469556e-15\n",
      "9 :   error = 0.0\n"
     ]
    },
    {
     "data": {
      "image/png": "[encoded data removed]",
      "text/plain": [
       "<Figure size 432x288 with 1 Axes>"
      ]
     },
     "metadata": {
      "needs_background": "light"
     },
     "output_type": "display_data"
    }
   ],
   "source": [
    "def back_f(x,f):\n",
    "    n = len(f)\n",
    "    _, w = sp.roots_sh_legendre(n)\n",
    "    return np.sin(np.pi*x)+(w @ f /2)\n",
    "\n",
    "for i in range(1,10):\n",
    "    xx, f= f_1(i)\n",
    "    print(i,\":\", \"  error =\", np.linalg.norm(f_real(array) - back_f(array, f)))\n",
    "plt.show()\n",
    "plt.plot(array, abs(back_f(array, f)- interpolation(array)))\n",
    "plt.ylabel(\"back_int - int\")\n",
    "plt.show()\n"
   ]
  },
  {
   "cell_type": "code",
   "execution_count": null,
   "metadata": {},
   "outputs": [],
   "source": []
  }
 ],
 "metadata": {
  "kernelspec": {
   "display_name": "Python 3",
   "language": "python",
   "name": "python3"
  },
  "language_info": {
   "codemirror_mode": {
    "name": "ipython",
    "version": 3
   },
   "file_extension": ".py",
   "mimetype": "text/x-python",
   "name": "python",
   "nbconvert_exporter": "python",
   "pygments_lexer": "ipython3",
   "version": "3.7.1"
  }
 },
 "nbformat": 4,
 "nbformat_minor": 4
}
