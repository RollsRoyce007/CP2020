{
 "cells": [
  {
   "cell_type": "code",
   "execution_count": 19,
   "metadata": {},
   "outputs": [],
   "source": [
    "import numpy as np\n",
    "\n",
    "from numpy.testing import assert_allclose\n"
   ]
  },
  {
   "cell_type": "code",
   "execution_count": 20,
   "metadata": {},
   "outputs": [],
   "source": [
    "def householder(vec):\n",
    "    \"\"\"Construct a Householder reflection to zero out 2nd and further components of a vector.\n",
    "\n",
    "    Parameters\n",
    "    ----------\n",
    "    vec : array-like of floats, shape (n,)\n",
    "        Input vector\n",
    "    \n",
    "    Returns\n",
    "    -------\n",
    "    outvec : array of floats, shape (n,)\n",
    "        Transformed vector, with ``outvec[1:]==0`` and ``|outvec| == |vec|``\n",
    "    H : array of floats, shape (n, n)\n",
    "        Orthogonal matrix of the Householder reflection\n",
    "    \"\"\"\n",
    "    vec = np.asarray(vec, dtype=float)\n",
    "    if vec.ndim != 1:\n",
    "        raise ValueError(\"vec.ndim = %s, expected 1\" % vec.ndim)\n",
    "    m = np.linalg.norm(vec)\n",
    "    x = vec.shape[0]\n",
    "    y = np.zeros(x)\n",
    "    y[0] = m\n",
    "    \n",
    "    u = (vec - y) / np.linalg.norm(vec - y)\n",
    "    H = np.eye(x) - 2*np.sign(vec[0])*np.outer(u, u)\n",
    "    \n",
    "    return y, H\n"
   ]
  },
  {
   "cell_type": "code",
   "execution_count": 33,
   "metadata": {},
   "outputs": [],
   "source": [
    "# Test I.1 (10% of the total grade).\n",
    "v = np.array([1, 2, 3])\n",
    "v1, h = householder(v)\n",
    "\n",
    "assert_allclose(np.dot(h, v1), v, atol=1e-10)\n",
    "assert_allclose(np.dot(h, v), v1, atol=1e-10)"
   ]
  },
  {
   "cell_type": "code",
   "execution_count": 50,
   "metadata": {},
   "outputs": [],
   "source": [
    "# Test I.2 (10% of the total grade).\n",
    "rndm = np.random.RandomState(1234)\n",
    "\n",
    "vec = rndm.uniform(size=7)\n",
    "v1, h = householder(vec)\n",
    "\n",
    "assert_allclose(np.dot(h, v1), vec)"
   ]
  },
  {
   "cell_type": "code",
   "execution_count": 38,
   "metadata": {},
   "outputs": [],
   "source": [
    "def qr_decomp(a):\n",
    "    \"\"\"Compute the QR decomposition of a matrix.\n",
    "    \n",
    "    Parameters\n",
    "    ----------\n",
    "    a : ndarray, shape(m, n)\n",
    "        The input matrix\n",
    "    \n",
    "    Returns\n",
    "    -------\n",
    "    q : ndarray, shape(m, m)\n",
    "        The orthogonal matrix\n",
    "    r : ndarray, shape(m, n)\n",
    "        The upper triangular matrix\n",
    "        \n",
    "    Examples\n",
    "    --------\n",
    "    >>> a = np.random.random(size=(3, 5))\n",
    "    >>> q, r = qr_decomp(a)\n",
    "    >>> np.assert_allclose(np.dot(q, r), a)\n",
    "    \n",
    "    \"\"\"\n",
    "    a1 = np.array(a, copy=True, dtype=float)\n",
    "    m, n = a1.shape\n",
    "    H = np.eye(m)\n",
    "    R = a1.copy()\n",
    "    for i in range(n): \n",
    "        vec = a1[i:, i]\n",
    "        H_i = np.eye(m)\n",
    "        H_i[i:, i:] = householder(vec)[1]\n",
    "        H = H @ H_i\n",
    "        R = H_i @ R\n",
    "    return H, R    "
   ]
  },
  {
   "cell_type": "code",
   "execution_count": 39,
   "metadata": {},
   "outputs": [],
   "source": [
    "# Might want to turn this on for prettier printing: zeros instead of `1e-16` etc\n",
    "np.set_printoptions(suppress=True)\n"
   ]
  },
  {
   "cell_type": "code",
   "execution_count": 40,
   "metadata": {},
   "outputs": [],
   "source": [
    "# Test II.1 (20% of the total grade)\n",
    "\n",
    "rndm = np.random.RandomState(1234)\n",
    "a = rndm.uniform(size=(5, 3))\n",
    "q, r = qr_decomp(a)\n",
    "\n",
    "# test that Q is indeed orthogonal\n",
    "assert_allclose(np.dot(q, q.T), np.eye(5), atol=1e-10)\n",
    "\n",
    "# test the decomposition itself\n",
    "assert_allclose(np.dot(q, r), a)"
   ]
  },
  {
   "cell_type": "code",
   "execution_count": 41,
   "metadata": {},
   "outputs": [],
   "source": [
    "from scipy.linalg import qr\n",
    "qq, rr = qr(a)\n",
    "\n",
    "assert_allclose(np.dot(qq, rr), a)"
   ]
  },
  {
   "cell_type": "code",
   "execution_count": 68,
   "metadata": {
    "scrolled": true
   },
   "outputs": [
    {
     "name": "stdout",
     "output_type": "stream",
     "text": [
      "[[ 0.13665049  0.84904838  0.08201038 -0.29370895 -0.40921002]\n",
      " [ 0.56035895  0.01667202  0.71836649 -0.05857033  0.40772416]\n",
      " [ 0.19725922  0.3896956  -0.22228119  0.84198854  0.22554936]\n",
      " [ 0.62498418 -0.3541743  -0.08592792  0.17378815 -0.66810883]\n",
      " [ 0.48765568  0.03920202 -0.64840678 -0.41371192  0.41117666]]\n",
      "[[-0.13665049  0.53601299  0.09369752  0.661619   -0.49749149]\n",
      " [-0.56035895  0.0935397   0.53326881 -0.52477245 -0.34276292]\n",
      " [-0.19725922  0.65948912 -0.60068463 -0.37879015  0.14784752]\n",
      " [-0.62498418 -0.50418303 -0.52144688  0.18967657 -0.21750907]\n",
      " [-0.48765568  0.12171264  0.27224305  0.32774225  0.75222783]]\n",
      "[[ 1.40152769  1.2514379   0.89523615]\n",
      " [ 0.          0.75489996  0.58665437]\n",
      " [ 0.         -0.05978056 -0.26437931]\n",
      " [-0.          0.21409591  0.59610183]\n",
      " [-0.          0.29828915 -0.03435307]]\n",
      "[[-1.40152769 -1.2514379  -0.89523615]\n",
      " [ 0.          0.84158252  0.68447942]\n",
      " [ 0.          0.         -0.5496046 ]\n",
      " [ 0.          0.          0.        ]\n",
      " [ 0.          0.          0.        ]]\n"
     ]
    }
   ],
   "source": [
    "print(q)\n",
    "print(qq)\n",
    "print(r)\n",
    "print(rr)"
   ]
  },
  {
   "cell_type": "markdown",
   "metadata": {},
   "source": [
    "Разложения не совпадают. QR разложение единтсвенно только для вырожденных матриц. Очевидно, библиотечная функция считает qr-разложение по другому алгоритму."
   ]
  },
  {
   "cell_type": "code",
   "execution_count": 69,
   "metadata": {},
   "outputs": [
    {
     "name": "stdout",
     "output_type": "stream",
     "text": [
      "[[ 1.40152769  1.2514379   0.89523615]\n",
      " [ 0.          0.84158252  0.68447942]\n",
      " [ 0.          0.          0.5496046 ]\n",
      " [ 0.          0.          0.        ]\n",
      " [ 0.          0.         -0.        ]]\n",
      "[array([-0.6570196 ,  0.42644006,  0.15011669,  0.47562065,  0.37111197]), array([-0.52846942,  0.73983285, -0.10990213,  0.40160796]), array([-0.79133207,  0.36468006, -0.49071581])]\n"
     ]
    }
   ],
   "source": [
    "def QR_dec(a):\n",
    "    a1 = np.array(a, copy=True, dtype=float)\n",
    "    m, n = a1.shape\n",
    "    reflect = []\n",
    "    R = a1.copy()\n",
    "    for i in range(n):\n",
    "        vec = R[i:, i]\n",
    "        x = vec.shape[0]\n",
    "        y = np.zeros(x)\n",
    "        y[0] = np.linalg.norm(vec)\n",
    "        u = (vec - y) / np.linalg.norm(vec - y)\n",
    "        reflect.append(u)\n",
    "        R[i:, i:] = R[i:, i:] - 2*np.outer(u,np.dot(u,a1))\n",
    "    return R, reflect\n",
    "print(R)\n",
    "print(reflect)"
   ]
  },
  {
   "cell_type": "code",
   "execution_count": null,
   "metadata": {},
   "outputs": [],
   "source": []
  }
 ],
 "metadata": {
  "kernelspec": {
   "display_name": "Python 3",
   "language": "python",
   "name": "python3"
  },
  "language_info": {
   "codemirror_mode": {
    "name": "ipython",
    "version": 3
   },
   "file_extension": ".py",
   "mimetype": "text/x-python",
   "name": "python",
   "nbconvert_exporter": "python",
   "pygments_lexer": "ipython3",
   "version": "3.7.1"
  }
 },
 "nbformat": 4,
 "nbformat_minor": 2
}
